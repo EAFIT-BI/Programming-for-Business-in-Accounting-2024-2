{
  "cells": [
    {
      "cell_type": "markdown",
      "id": "685480f3-7c66-4427-892a-901bbad39c4b",
      "metadata": {
        "id": "685480f3-7c66-4427-892a-901bbad39c4b"
      },
      "source": [
        "# Medidas de resumen"
      ]
    },
    {
      "cell_type": "markdown",
      "id": "df0a8b9f-4702-4830-8402-6e1b0c34dba3",
      "metadata": {
        "id": "df0a8b9f-4702-4830-8402-6e1b0c34dba3"
      },
      "source": [
        "Las medidas de resumen son aquellas que se usan con el fin de condensar la información de un *DataFrame* a través de estadísticos. Dentro de los estadísticos más conocidos se encuentran: media $\\bar{x}$, desviación estándar $s$, varianza $s^2$, mediana (segundo cuartil $Q_2$) y la moda. También existen otro tipo de medidas como el mínimo ($\\min$), el máximo ($\\max$), la suma y el conteo, entre otros."
      ]
    },
    {
      "cell_type": "code",
      "execution_count": 16,
      "id": "e3d0bbaa-0de9-47b5-bbf1-d67a55a11601",
      "metadata": {
        "id": "e3d0bbaa-0de9-47b5-bbf1-d67a55a11601"
      },
      "outputs": [],
      "source": [
        "#importamos las librerías necesarias\n",
        "import pandas as pd\n",
        "\n",
        "#Generamos el DataFrame de ejemplo\n",
        "datos = pd.DataFrame({'Fecha': ['21/08/2023', '21/08/2023', '22/08/2023',\n",
        "                                '10/09/2024', '10/09/2024'],\n",
        "                      'No. de Referencia': [1, 2, 3, 4, 5],\n",
        "                     'Detalle o Cuenta': ['Inmueble', 'Cuentas por pagar', 'Caja',\n",
        "                                          'Cuentas por pagar', 'Inmueble'],\n",
        "                     'Debe': [100000, 0, 0, 0, 20000],\n",
        "                     'Haber': [0, 50000, 50000, 20000, 0]})"
      ]
    },
    {
      "cell_type": "code",
      "execution_count": 17,
      "id": "2f3cdca3-75fb-44d6-a4cd-a3bc8801059a",
      "metadata": {
        "id": "2f3cdca3-75fb-44d6-a4cd-a3bc8801059a",
        "outputId": "32339725-da28-4c11-e582-ac0e3a8f15f9",
        "colab": {
          "base_uri": "https://localhost:8080/"
        }
      },
      "outputs": [
        {
          "output_type": "stream",
          "name": "stdout",
          "text": [
            "InmuebleCuentas por pagarCajaCuentas por pagarInmueble\n",
            "120000\n"
          ]
        }
      ],
      "source": [
        "#Dentro de las medidas de resumen tenemos:\n",
        "#suma: Cuanto se trata de datos cuantitativos es a nivel aritmético\n",
        "#cuando se trata de datos cualitativos es concatenación\n",
        "print(datos['Detalle o Cuenta'].sum()) #Datos cualitativos\n",
        "print(datos['Haber'].sum()) #Datos cuantitativos"
      ]
    },
    {
      "cell_type": "code",
      "execution_count": 18,
      "id": "874e73dd-01a8-400b-9213-b78543b08444",
      "metadata": {
        "id": "874e73dd-01a8-400b-9213-b78543b08444",
        "outputId": "d759a3c7-b65e-4a95-efb2-49d12757cfcb",
        "colab": {
          "base_uri": "https://localhost:8080/",
          "height": 147
        }
      },
      "outputs": [
        {
          "output_type": "execute_result",
          "data": {
            "text/plain": [
              "Haber    120000\n",
              "Debe     120000\n",
              "dtype: int64"
            ],
            "text/html": [
              "<div>\n",
              "<style scoped>\n",
              "    .dataframe tbody tr th:only-of-type {\n",
              "        vertical-align: middle;\n",
              "    }\n",
              "\n",
              "    .dataframe tbody tr th {\n",
              "        vertical-align: top;\n",
              "    }\n",
              "\n",
              "    .dataframe thead th {\n",
              "        text-align: right;\n",
              "    }\n",
              "</style>\n",
              "<table border=\"1\" class=\"dataframe\">\n",
              "  <thead>\n",
              "    <tr style=\"text-align: right;\">\n",
              "      <th></th>\n",
              "      <th>0</th>\n",
              "    </tr>\n",
              "  </thead>\n",
              "  <tbody>\n",
              "    <tr>\n",
              "      <th>Haber</th>\n",
              "      <td>120000</td>\n",
              "    </tr>\n",
              "    <tr>\n",
              "      <th>Debe</th>\n",
              "      <td>120000</td>\n",
              "    </tr>\n",
              "  </tbody>\n",
              "</table>\n",
              "</div><br><label><b>dtype:</b> int64</label>"
            ]
          },
          "metadata": {},
          "execution_count": 18
        }
      ],
      "source": [
        "# si lo quiero hacer en más de una columna\n",
        "datos[['Haber', 'Debe']].sum()"
      ]
    },
    {
      "cell_type": "code",
      "execution_count": 19,
      "id": "bfffe00a-c36c-45eb-96e7-79bdafe1ba41",
      "metadata": {
        "id": "bfffe00a-c36c-45eb-96e7-79bdafe1ba41",
        "outputId": "54f85809-1f70-40ac-c5f0-5264ebc338f9",
        "colab": {
          "base_uri": "https://localhost:8080/"
        }
      },
      "outputs": [
        {
          "output_type": "stream",
          "name": "stdout",
          "text": [
            "El Haber y el Debe son iguales\n"
          ]
        }
      ],
      "source": [
        "#Por ejemplo podríamos utilizar la suma para comparar el Haber y el Debe\n",
        "if datos['Haber'].sum() == datos['Debe'].sum():\n",
        "    print('El Haber y el Debe son iguales')\n",
        "else:\n",
        "    print('El Haber y el Debe son diferentes')"
      ]
    },
    {
      "cell_type": "code",
      "execution_count": 20,
      "id": "3a97bcb2-9366-4a99-bf02-580085098e29",
      "metadata": {
        "id": "3a97bcb2-9366-4a99-bf02-580085098e29",
        "outputId": "9896c792-2f5a-4baf-c24f-046fea1b887a",
        "colab": {
          "base_uri": "https://localhost:8080/",
          "height": 147
        }
      },
      "outputs": [
        {
          "output_type": "execute_result",
          "data": {
            "text/plain": [
              "0    Cuentas por pagar\n",
              "1             Inmueble\n",
              "Name: Detalle o Cuenta, dtype: object"
            ],
            "text/html": [
              "<div>\n",
              "<style scoped>\n",
              "    .dataframe tbody tr th:only-of-type {\n",
              "        vertical-align: middle;\n",
              "    }\n",
              "\n",
              "    .dataframe tbody tr th {\n",
              "        vertical-align: top;\n",
              "    }\n",
              "\n",
              "    .dataframe thead th {\n",
              "        text-align: right;\n",
              "    }\n",
              "</style>\n",
              "<table border=\"1\" class=\"dataframe\">\n",
              "  <thead>\n",
              "    <tr style=\"text-align: right;\">\n",
              "      <th></th>\n",
              "      <th>Detalle o Cuenta</th>\n",
              "    </tr>\n",
              "  </thead>\n",
              "  <tbody>\n",
              "    <tr>\n",
              "      <th>0</th>\n",
              "      <td>Cuentas por pagar</td>\n",
              "    </tr>\n",
              "    <tr>\n",
              "      <th>1</th>\n",
              "      <td>Inmueble</td>\n",
              "    </tr>\n",
              "  </tbody>\n",
              "</table>\n",
              "</div><br><label><b>dtype:</b> object</label>"
            ]
          },
          "metadata": {},
          "execution_count": 20
        }
      ],
      "source": [
        "#la moda es otro estadístico conocido como  medida de resumen\n",
        "#por ejemplo, si queremos saber sobre qué cuenta se realizan más transacciones\n",
        "#podemos calcular la moda\n",
        "\n",
        "datos['Detalle o Cuenta'].mode()"
      ]
    },
    {
      "cell_type": "code",
      "execution_count": 21,
      "id": "541641de-541f-4182-a0dd-f174d38657e6",
      "metadata": {
        "id": "541641de-541f-4182-a0dd-f174d38657e6",
        "outputId": "d978b3ba-c625-4dd4-f38c-ed6658e79951",
        "colab": {
          "base_uri": "https://localhost:8080/",
          "height": 147
        }
      },
      "outputs": [
        {
          "output_type": "execute_result",
          "data": {
            "text/plain": [
              "Debe     24000.0\n",
              "Haber    24000.0\n",
              "dtype: float64"
            ],
            "text/html": [
              "<div>\n",
              "<style scoped>\n",
              "    .dataframe tbody tr th:only-of-type {\n",
              "        vertical-align: middle;\n",
              "    }\n",
              "\n",
              "    .dataframe tbody tr th {\n",
              "        vertical-align: top;\n",
              "    }\n",
              "\n",
              "    .dataframe thead th {\n",
              "        text-align: right;\n",
              "    }\n",
              "</style>\n",
              "<table border=\"1\" class=\"dataframe\">\n",
              "  <thead>\n",
              "    <tr style=\"text-align: right;\">\n",
              "      <th></th>\n",
              "      <th>0</th>\n",
              "    </tr>\n",
              "  </thead>\n",
              "  <tbody>\n",
              "    <tr>\n",
              "      <th>Debe</th>\n",
              "      <td>24000.0</td>\n",
              "    </tr>\n",
              "    <tr>\n",
              "      <th>Haber</th>\n",
              "      <td>24000.0</td>\n",
              "    </tr>\n",
              "  </tbody>\n",
              "</table>\n",
              "</div><br><label><b>dtype:</b> float64</label>"
            ]
          },
          "metadata": {},
          "execution_count": 21
        }
      ],
      "source": [
        "#el promedio o media es un dato estadístico bastante utilizado.\n",
        "#este sólo sirve para datos cuantitativos\n",
        "datos[['Debe', 'Haber']].mean()"
      ]
    },
    {
      "cell_type": "code",
      "execution_count": 22,
      "id": "94afa49d-1f03-420d-9810-3fc10585cd2e",
      "metadata": {
        "id": "94afa49d-1f03-420d-9810-3fc10585cd2e",
        "outputId": "74990d4d-5828-46ff-8d34-486a6a8d6029",
        "colab": {
          "base_uri": "https://localhost:8080/",
          "height": 147
        }
      },
      "outputs": [
        {
          "output_type": "execute_result",
          "data": {
            "text/plain": [
              "Debe         0.0\n",
              "Haber    20000.0\n",
              "dtype: float64"
            ],
            "text/html": [
              "<div>\n",
              "<style scoped>\n",
              "    .dataframe tbody tr th:only-of-type {\n",
              "        vertical-align: middle;\n",
              "    }\n",
              "\n",
              "    .dataframe tbody tr th {\n",
              "        vertical-align: top;\n",
              "    }\n",
              "\n",
              "    .dataframe thead th {\n",
              "        text-align: right;\n",
              "    }\n",
              "</style>\n",
              "<table border=\"1\" class=\"dataframe\">\n",
              "  <thead>\n",
              "    <tr style=\"text-align: right;\">\n",
              "      <th></th>\n",
              "      <th>0</th>\n",
              "    </tr>\n",
              "  </thead>\n",
              "  <tbody>\n",
              "    <tr>\n",
              "      <th>Debe</th>\n",
              "      <td>0.0</td>\n",
              "    </tr>\n",
              "    <tr>\n",
              "      <th>Haber</th>\n",
              "      <td>20000.0</td>\n",
              "    </tr>\n",
              "  </tbody>\n",
              "</table>\n",
              "</div><br><label><b>dtype:</b> float64</label>"
            ]
          },
          "metadata": {},
          "execution_count": 22
        }
      ],
      "source": [
        "#para la mediana, sería algo muy similar\n",
        "datos[['Debe', 'Haber']].median()"
      ]
    },
    {
      "cell_type": "code",
      "source": [
        "# En el caso de máximo y el mínimo, tendremos una forma análoga de cálculo\n",
        "maximo_debe = datos['Debe'].max()\n",
        "minimo_debe = datos['Debe'].min()\n",
        "\n",
        "# El rango es la diferencia entre el máximo valor y el mínimo valor de una\n",
        "# variable numérica.\n",
        "print('El rango del Debe  es: ', maximo_debe - minimo_debe)"
      ],
      "metadata": {
        "id": "GK97LhAL7yfF",
        "outputId": "d40d3768-8539-4bac-88bc-236626351bf3",
        "colab": {
          "base_uri": "https://localhost:8080/"
        }
      },
      "id": "GK97LhAL7yfF",
      "execution_count": 23,
      "outputs": [
        {
          "output_type": "stream",
          "name": "stdout",
          "text": [
            "El rango del Debe  es:  100000\n"
          ]
        }
      ]
    },
    {
      "cell_type": "code",
      "source": [
        "# El conteo indica el número de registros\n",
        "datos['Detalle o Cuenta'].count()"
      ],
      "metadata": {
        "id": "eLDH_eUa8qab",
        "outputId": "1270c8cf-251b-4408-9434-0fbb9c1d3293",
        "colab": {
          "base_uri": "https://localhost:8080/"
        }
      },
      "id": "eLDH_eUa8qab",
      "execution_count": 24,
      "outputs": [
        {
          "output_type": "execute_result",
          "data": {
            "text/plain": [
              "5"
            ]
          },
          "metadata": {},
          "execution_count": 24
        }
      ]
    },
    {
      "cell_type": "code",
      "source": [
        "datos['Detalle o Cuenta'].unique()"
      ],
      "metadata": {
        "id": "JvcKaVyJ9D7L",
        "outputId": "07672505-202f-4595-b253-2ae50673ea2e",
        "colab": {
          "base_uri": "https://localhost:8080/"
        }
      },
      "id": "JvcKaVyJ9D7L",
      "execution_count": 25,
      "outputs": [
        {
          "output_type": "execute_result",
          "data": {
            "text/plain": [
              "array(['Inmueble', 'Cuentas por pagar', 'Caja'], dtype=object)"
            ]
          },
          "metadata": {},
          "execution_count": 25
        }
      ]
    }
  ],
  "metadata": {
    "kernelspec": {
      "display_name": "Python 3 (ipykernel)",
      "language": "python",
      "name": "python3"
    },
    "language_info": {
      "codemirror_mode": {
        "name": "ipython",
        "version": 3
      },
      "file_extension": ".py",
      "mimetype": "text/x-python",
      "name": "python",
      "nbconvert_exporter": "python",
      "pygments_lexer": "ipython3",
      "version": "3.11.7"
    },
    "colab": {
      "provenance": []
    }
  },
  "nbformat": 4,
  "nbformat_minor": 5
}