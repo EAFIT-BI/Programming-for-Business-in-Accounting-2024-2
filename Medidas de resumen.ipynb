{
 "cells": [
  {
   "cell_type": "markdown",
   "id": "685480f3-7c66-4427-892a-901bbad39c4b",
   "metadata": {},
   "source": [
    "# Medidas de resumen"
   ]
  },
  {
   "cell_type": "markdown",
   "id": "df0a8b9f-4702-4830-8402-6e1b0c34dba3",
   "metadata": {},
   "source": [
    "Las medidas de resumen son aquellas que se usan con el fin de condensar la información de un *DataFrame* a través de estadísticos. Dentro de los estadísticos más conocidos se encuentran: media $\\bar{x}$, desviación estándar $s$, varianza $s^2$, mediana (segundo cuartil $Q_2$) y la moda. También existen otro tipo de medidas como el mínimo ($\\min$), el máximo ($\\max$), la suma y el conteo, entre otros."
   ]
  },
  {
   "cell_type": "code",
   "execution_count": 1,
   "id": "e3d0bbaa-0de9-47b5-bbf1-d67a55a11601",
   "metadata": {},
   "outputs": [],
   "source": [
    "#importamos las librerías necesarias\n",
    "import pandas as pd\n",
    "\n",
    "#Generamos el DataFrame de ejemplo\n",
    "datos = pd.DataFrame({'Fecha': ['21/08/2023', '21/08/2023', '22/08/2023',\n",
    "                                '10/09/2024', '10/09/2024'], \n",
    "                      'No. de Referencia': [1, 2, 3, 4, 5],\n",
    "                     'Detalle o Cuenta': ['Inmueble', 'Cuentas por pagar', 'Caja', \n",
    "                                          'Cuentas por pagar', 'Inmueble'],\n",
    "                     'Debe': [100000, 0, 0, 0, 20000],\n",
    "                     'Haber': [0, 50000, 50000, 20000, 0]})"
   ]
  },
  {
   "cell_type": "code",
   "execution_count": 5,
   "id": "2f3cdca3-75fb-44d6-a4cd-a3bc8801059a",
   "metadata": {},
   "outputs": [
    {
     "name": "stdout",
     "output_type": "stream",
     "text": [
      "InmuebleCuentas por pagarCajaCuentas por pagarInmueble\n",
      "120000\n"
     ]
    }
   ],
   "source": [
    "#Dentro de las medidas de resumen tenemos:\n",
    "#suma: Cuanto se trata de datos cuantitativos es a nivel aritmético\n",
    "#cuando se trata de datos cualitativos es concatenación\n",
    "print(datos['Detalle o Cuenta'].sum()) #Datos cualitativos\n",
    "print(datos['Haber'].sum()) #Datos cuantitativos"
   ]
  },
  {
   "cell_type": "code",
   "execution_count": 6,
   "id": "874e73dd-01a8-400b-9213-b78543b08444",
   "metadata": {},
   "outputs": [
    {
     "data": {
      "text/plain": [
       "Haber    120000\n",
       "Debe     120000\n",
       "dtype: int64"
      ]
     },
     "execution_count": 6,
     "metadata": {},
     "output_type": "execute_result"
    }
   ],
   "source": [
    "# si lo quiero hacer en más de una columna\n",
    "datos[['Haber', 'Debe']].sum()"
   ]
  },
  {
   "cell_type": "code",
   "execution_count": 8,
   "id": "bfffe00a-c36c-45eb-96e7-79bdafe1ba41",
   "metadata": {},
   "outputs": [
    {
     "name": "stdout",
     "output_type": "stream",
     "text": [
      "El Haber y el Debe son iguales\n"
     ]
    }
   ],
   "source": [
    "#Por ejemplo podríamos utilizar la suma para comparar el Haber y el Debe\n",
    "if datos['Haber'].sum() == datos['Debe'].sum():\n",
    "    print('El Haber y el Debe son iguales')\n",
    "else:\n",
    "    print('El Haber y el Debe son diferentes')"
   ]
  },
  {
   "cell_type": "code",
   "execution_count": 9,
   "id": "3a97bcb2-9366-4a99-bf02-580085098e29",
   "metadata": {},
   "outputs": [
    {
     "data": {
      "text/plain": [
       "0    Cuentas por pagar\n",
       "1             Inmueble\n",
       "Name: Detalle o Cuenta, dtype: object"
      ]
     },
     "execution_count": 9,
     "metadata": {},
     "output_type": "execute_result"
    }
   ],
   "source": [
    "#la moda es otro estadístico conocido como  medida de resumen\n",
    "#por ejemplo, si queremos saber sobre qué cuenta se realizan más transacciones\n",
    "#podemos calcular la moda\n",
    "\n",
    "datos['Detalle o Cuenta'].mode()"
   ]
  },
  {
   "cell_type": "code",
   "execution_count": 11,
   "id": "541641de-541f-4182-a0dd-f174d38657e6",
   "metadata": {},
   "outputs": [
    {
     "data": {
      "text/plain": [
       "Debe     24000.0\n",
       "Haber    24000.0\n",
       "dtype: float64"
      ]
     },
     "execution_count": 11,
     "metadata": {},
     "output_type": "execute_result"
    }
   ],
   "source": [
    "#el promedio o media es un dato estadístico bastante utilizado.\n",
    "#este sólo sirve para datos cuantitativos\n",
    "datos[['Debe', 'Haber']].mean()"
   ]
  },
  {
   "cell_type": "code",
   "execution_count": 12,
   "id": "94afa49d-1f03-420d-9810-3fc10585cd2e",
   "metadata": {},
   "outputs": [
    {
     "data": {
      "text/plain": [
       "Debe         0.0\n",
       "Haber    20000.0\n",
       "dtype: float64"
      ]
     },
     "execution_count": 12,
     "metadata": {},
     "output_type": "execute_result"
    }
   ],
   "source": [
    "#para la mediana, sería algo muy similar\n",
    "datos[['Debe', 'Haber']].median()"
   ]
  }
 ],
 "metadata": {
  "kernelspec": {
   "display_name": "Python 3 (ipykernel)",
   "language": "python",
   "name": "python3"
  },
  "language_info": {
   "codemirror_mode": {
    "name": "ipython",
    "version": 3
   },
   "file_extension": ".py",
   "mimetype": "text/x-python",
   "name": "python",
   "nbconvert_exporter": "python",
   "pygments_lexer": "ipython3",
   "version": "3.11.7"
  }
 },
 "nbformat": 4,
 "nbformat_minor": 5
}
